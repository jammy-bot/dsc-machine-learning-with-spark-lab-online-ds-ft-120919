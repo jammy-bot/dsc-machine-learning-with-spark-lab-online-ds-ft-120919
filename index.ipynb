{
  "nbformat": 4,
  "nbformat_minor": 0,
  "metadata": {
    "kernelspec": {
      "display_name": "Python 3",
      "language": "python",
      "name": "python3"
    },
    "language_info": {
      "codemirror_mode": {
        "name": "ipython",
        "version": 3
      },
      "file_extension": ".py",
      "mimetype": "text/x-python",
      "name": "python",
      "nbconvert_exporter": "python",
      "pygments_lexer": "ipython3",
      "version": "3.7.3"
    },
    "colab": {
      "name": "index.ipynb",
      "provenance": []
    }
  },
  "cells": [
    {
      "cell_type": "markdown",
      "metadata": {
        "id": "sHdzJZRkYjny",
        "colab_type": "text"
      },
      "source": [
        "## Machine Learning with Spark - Lab\n",
        "\n",
        "## Introduction\n",
        "\n",
        "In the previous lesson, you saw how to manipulate data with Spark DataFrames as well as create machine learning models. In this lab, you're going to practice loading data, manipulating it, and fitting it in the Spark framework. Afterward, you're going to make use of different visualizations to see if you can get any insights from the model. This dataset is from a Taiwanese financial company, and the task is to determine which individuals are going to default on their credit card based off of characteristics such as limit balance, past payment history, age, marriage status, and sex. Let's get started!\n",
        "\n",
        "### Objectives\n",
        "\n",
        "In this lab you will: \n",
        "\n",
        "- Load and manipulate data using Spark DataFrames \n",
        "- Create a Spark ML pipeline that transforms data and runs over a grid of hyperparameters "
      ]
    },
    {
      "cell_type": "code",
      "metadata": {
        "id": "6ZfcbW2rc4HH",
        "colab_type": "code",
        "colab": {
          "base_uri": "https://localhost:8080/",
          "height": 125
        },
        "outputId": "8dd431b2-9092-44cd-9b7f-5ac7454c12a8"
      },
      "source": [
        "from google.colab import drive\n",
        "drive.mount('/content/drive')"
      ],
      "execution_count": 7,
      "outputs": [
        {
          "output_type": "stream",
          "text": [
            "Go to this URL in a browser: https://accounts.google.com/o/oauth2/auth?client_id=947318989803-6bn6qk8qdgf4n4g3pfee6491hc0brc4i.apps.googleusercontent.com&redirect_uri=urn%3aietf%3awg%3aoauth%3a2.0%3aoob&response_type=code&scope=email%20https%3a%2f%2fwww.googleapis.com%2fauth%2fdocs.test%20https%3a%2f%2fwww.googleapis.com%2fauth%2fdrive%20https%3a%2f%2fwww.googleapis.com%2fauth%2fdrive.photos.readonly%20https%3a%2f%2fwww.googleapis.com%2fauth%2fpeopleapi.readonly\n",
            "\n",
            "Enter your authorization code:\n",
            "··········\n",
            "Mounted at /content/drive\n"
          ],
          "name": "stdout"
        }
      ]
    },
    {
      "cell_type": "code",
      "metadata": {
        "id": "0RsajZD9ZAoh",
        "colab_type": "code",
        "colab": {}
      },
      "source": [
        "!apt-get install openjdk-8-jdk-headless -qq > /dev/null\n",
        "!wget -q https://downloads.apache.org/spark/spark-2.4.5/spark-2.4.5-bin-hadoop2.7.tgz\n",
        "!tar xf spark-2.4.5-bin-hadoop2.7.tgz\n",
        "!pip install -q findspark\n"
      ],
      "execution_count": 0,
      "outputs": []
    },
    {
      "cell_type": "code",
      "metadata": {
        "id": "82RA19Y5ZLT3",
        "colab_type": "code",
        "colab": {}
      },
      "source": [
        "import os\n",
        "os.environ[\"JAVA_HOME\"] = \"/usr/lib/jvm/java-8-openjdk-amd64\"\n",
        "os.environ[\"SPARK_HOME\"] = \"/content/spark-2.4.5-bin-hadoop2.7\""
      ],
      "execution_count": 0,
      "outputs": []
    },
    {
      "cell_type": "code",
      "metadata": {
        "id": "PJEAuZa_ZPCa",
        "colab_type": "code",
        "colab": {}
      },
      "source": [
        "import findspark\n",
        "findspark.init()"
      ],
      "execution_count": 0,
      "outputs": []
    },
    {
      "cell_type": "code",
      "metadata": {
        "id": "Onj84kF6ZSiO",
        "colab_type": "code",
        "colab": {}
      },
      "source": [
        "# initialize Spark Session\n",
        "from pyspark.sql import SparkSession\n",
        "spark = SparkSession.builder.master(\"local[*]\").getOrCreate()"
      ],
      "execution_count": 0,
      "outputs": []
    },
    {
      "cell_type": "code",
      "metadata": {
        "id": "AdJ7XAhbZ2wB",
        "colab_type": "code",
        "colab": {}
      },
      "source": [
        "# import necessary libraries\n",
        "from pyspark import SparkContext\n"
      ],
      "execution_count": 0,
      "outputs": []
    },
    {
      "cell_type": "markdown",
      "metadata": {
        "id": "-t5nZf2OYjnz",
        "colab_type": "text"
      },
      "source": [
        "To begin with create a SparkSession and import the `'credit_card_default.csv'` file  into a PySpark DataFrame. "
      ]
    },
    {
      "cell_type": "code",
      "metadata": {
        "id": "ufqHz5T-Yjn0",
        "colab_type": "code",
        "colab": {}
      },
      "source": [
        "# read in csv to a spark dataframe\n",
        "spark_df = spark.read.csv('/content/drive/My Drive/Colab Notebooks/dsc-machine-learning-with-spark-lab-online-ds-ft-120919/credit_card_default.csv',\n",
        "                          header='true',\n",
        "                          inferSchema='true')"
      ],
      "execution_count": 0,
      "outputs": []
    },
    {
      "cell_type": "markdown",
      "metadata": {
        "id": "A2ZxMVmQYjn5",
        "colab_type": "text"
      },
      "source": [
        "Check the datatypes to ensure that all columns are the datatype you expect."
      ]
    },
    {
      "cell_type": "code",
      "metadata": {
        "id": "g4curSDDYjn5",
        "colab_type": "code",
        "colab": {
          "base_uri": "https://localhost:8080/",
          "height": 461
        },
        "outputId": "f0cd20eb-9d5b-41f8-a648-a11350156bfe"
      },
      "source": [
        "spark_df.dtypes"
      ],
      "execution_count": 9,
      "outputs": [
        {
          "output_type": "execute_result",
          "data": {
            "text/plain": [
              "[('ID', 'int'),\n",
              " ('LIMIT_BAL', 'double'),\n",
              " ('SEX', 'string'),\n",
              " ('EDUCATION', 'string'),\n",
              " ('MARRIAGE', 'string'),\n",
              " ('AGE', 'int'),\n",
              " ('PAY_0', 'int'),\n",
              " ('PAY_2', 'int'),\n",
              " ('PAY_3', 'int'),\n",
              " ('PAY_4', 'int'),\n",
              " ('PAY_5', 'int'),\n",
              " ('PAY_6', 'int'),\n",
              " ('BILL_AMT1', 'double'),\n",
              " ('BILL_AMT2', 'double'),\n",
              " ('BILL_AMT3', 'double'),\n",
              " ('BILL_AMT4', 'double'),\n",
              " ('BILL_AMT5', 'double'),\n",
              " ('BILL_AMT6', 'double'),\n",
              " ('PAY_AMT1', 'double'),\n",
              " ('PAY_AMT2', 'double'),\n",
              " ('PAY_AMT3', 'double'),\n",
              " ('PAY_AMT4', 'double'),\n",
              " ('PAY_AMT5', 'double'),\n",
              " ('PAY_AMT6', 'double'),\n",
              " ('default', 'int')]"
            ]
          },
          "metadata": {
            "tags": []
          },
          "execution_count": 9
        }
      ]
    },
    {
      "cell_type": "markdown",
      "metadata": {
        "id": "gmeD74YhYjn-",
        "colab_type": "text"
      },
      "source": [
        "Check to see how many missing values are in the dataset. This will require using the `.filter()` , `.isNull()`, and `.count()` methods."
      ]
    },
    {
      "cell_type": "code",
      "metadata": {
        "id": "qGZ5me79Yjn_",
        "colab_type": "code",
        "colab": {
          "base_uri": "https://localhost:8080/",
          "height": 461
        },
        "outputId": "d289f787-8535-488a-f53f-29358fab2c49"
      },
      "source": [
        "for col in spark_df.columns:\n",
        "    print('column', col, spark_df.filter(spark_df[col].isNull()).count())"
      ],
      "execution_count": 10,
      "outputs": [
        {
          "output_type": "stream",
          "text": [
            "column ID 0\n",
            "column LIMIT_BAL 0\n",
            "column SEX 0\n",
            "column EDUCATION 0\n",
            "column MARRIAGE 0\n",
            "column AGE 0\n",
            "column PAY_0 0\n",
            "column PAY_2 0\n",
            "column PAY_3 0\n",
            "column PAY_4 0\n",
            "column PAY_5 0\n",
            "column PAY_6 0\n",
            "column BILL_AMT1 0\n",
            "column BILL_AMT2 0\n",
            "column BILL_AMT3 0\n",
            "column BILL_AMT4 0\n",
            "column BILL_AMT5 0\n",
            "column BILL_AMT6 0\n",
            "column PAY_AMT1 0\n",
            "column PAY_AMT2 0\n",
            "column PAY_AMT3 0\n",
            "column PAY_AMT4 0\n",
            "column PAY_AMT5 0\n",
            "column PAY_AMT6 0\n",
            "column default 0\n"
          ],
          "name": "stdout"
        }
      ]
    },
    {
      "cell_type": "markdown",
      "metadata": {
        "id": "RkFEzgwWYjoC",
        "colab_type": "text"
      },
      "source": [
        "Now, determine how many categories there are in each of the categorical columns."
      ]
    },
    {
      "cell_type": "code",
      "metadata": {
        "id": "IFBsXz2kYjoD",
        "colab_type": "code",
        "colab": {
          "base_uri": "https://localhost:8080/",
          "height": 90
        },
        "outputId": "bdfbf4f8-d25b-4c50-9b29-b7153d9a0a77"
      },
      "source": [
        "for column, data_type in spark_df.dtypes:\n",
        "   if data_type == 'string':\n",
        "        print('Feature ',column,' has: ', spark_df.select(column).distinct().collect())"
      ],
      "execution_count": 11,
      "outputs": [
        {
          "output_type": "stream",
          "text": [
            "Feature  SEX  has:  [Row(SEX='Female'), Row(SEX='Male')]\n",
            "Feature  EDUCATION  has:  [Row(EDUCATION='High School'), Row(EDUCATION='0'), Row(EDUCATION='5'), Row(EDUCATION='6'), Row(EDUCATION='Other'), Row(EDUCATION='Graduate'), Row(EDUCATION='College')]\n",
            "Feature  MARRIAGE  has:  [Row(MARRIAGE='0'), Row(MARRIAGE='Other'), Row(MARRIAGE='Married'), Row(MARRIAGE='Single')]\n"
          ],
          "name": "stdout"
        }
      ]
    },
    {
      "cell_type": "markdown",
      "metadata": {
        "id": "rwdHeDnvYjoG",
        "colab_type": "text"
      },
      "source": [
        "Interesting... it looks like we have some extraneous values in each of our categories. Let's look at some visualizations of each of these to determine just how many of them there are. Create bar plots of the variables `'EDUCATION'` and `'MARRIAGE'` to see how many of the undefined values there are. After doing so, come up with a strategy for accounting for the extra values."
      ]
    },
    {
      "cell_type": "code",
      "metadata": {
        "id": "0Z779ZaUYjoH",
        "colab_type": "code",
        "colab": {
          "base_uri": "https://localhost:8080/",
          "height": 320
        },
        "outputId": "c98e6e48-3ce8-40bf-ba31-7f997d189830"
      },
      "source": [
        "import seaborn as sns\n",
        "import matplotlib.pyplot as plt\n",
        "\n",
        "def bar_plot_values(idx,group):\n",
        "    return [x[idx] for x in group]\n",
        "\n",
        "## plotting the categories for education\n",
        "education_cats = spark_df.groupBy('EDUCATION').count().collect()\n",
        "sns.barplot(x=bar_plot_values(0,education_cats),y=bar_plot_values(1,education_cats))\n",
        "plt.show()"
      ],
      "execution_count": 12,
      "outputs": [
        {
          "output_type": "stream",
          "text": [
            "/usr/local/lib/python3.6/dist-packages/statsmodels/tools/_testing.py:19: FutureWarning: pandas.util.testing is deprecated. Use the functions in the public API at pandas.testing instead.\n",
            "  import pandas.util.testing as tm\n"
          ],
          "name": "stderr"
        },
        {
          "output_type": "display_data",
          "data": {
            "image/png": "[encoded data removed]",
            "text/plain": [
              "<Figure size 432x288 with 1 Axes>"
            ]
          },
          "metadata": {
            "tags": []
          }
        }
      ]
    },
    {
      "cell_type": "code",
      "metadata": {
        "id": "lvlLyAWWYjoL",
        "colab_type": "code",
        "colab": {
          "base_uri": "https://localhost:8080/",
          "height": 264
        },
        "outputId": "2684ac2f-8c9b-44d1-923d-7911b924751f"
      },
      "source": [
        "## plotting the categories for marriage\n",
        "marriage_cats = spark_df.groupBy('marriage').count().collect()\n",
        "sns.barplot(x=bar_plot_values(0,marriage_cats),y=bar_plot_values(1,marriage_cats))\n",
        "plt.show()"
      ],
      "execution_count": 14,
      "outputs": [
        {
          "output_type": "display_data",
          "data": {
            "image/png": "[encoded data removed]",
            "text/plain": [
              "<Figure size 432x288 with 1 Axes>"
            ]
          },
          "metadata": {
            "tags": []
          }
        }
      ]
    },
    {
      "cell_type": "markdown",
      "metadata": {
        "id": "Cwf4EQmKYjoP",
        "colab_type": "text"
      },
      "source": [
        "It looks like there are barely any of the 0 and 5 categories. We can go ahead and throw them into the \"Other\" category since it's already operating as a catchall here. Similarly, the category \"0\" looks small, so let's throw it in with the \"Other\" values. You can do this by using a method called `.when()` from PySpark in conjunction with `.withColumn()` and `.otherwise()`.  "
      ]
    },
    {
      "cell_type": "code",
      "metadata": {
        "id": "pjhs_kJZYjoQ",
        "colab_type": "code",
        "colab": {}
      },
      "source": [
        "from pyspark.sql.functions import when\n",
        "\n",
        "## changing the values in the education column\n",
        "spark_df_2 = spark_df.withColumn('EDUCATION',\n",
        "                    when(spark_df.EDUCATION == '0', 'Other')\\\n",
        "                    .when(spark_df.EDUCATION == '5', 'Other')\\\n",
        "                    .when(spark_df.EDUCATION == '6', 'Other')\\\n",
        "                    .otherwise(spark_df['EDUCATION']))\n",
        "\n",
        "## changing the values in the marriage column\n",
        "spark_df_done = spark_df_2.withColumn('MARRIAGE',\n",
        "                                   when(spark_df.MARRIAGE == '0', 'Other')\\\n",
        "                                   .otherwise(spark_df['MARRIAGE']))"
      ],
      "execution_count": 0,
      "outputs": []
    },
    {
      "cell_type": "code",
      "metadata": {
        "id": "E1lHjDwOYjoT",
        "colab_type": "code",
        "colab": {
          "base_uri": "https://localhost:8080/",
          "height": 54
        },
        "outputId": "21129d64-0fc0-4a84-eba1-8571121196e0"
      },
      "source": [
        "spark_df_done.head()"
      ],
      "execution_count": 16,
      "outputs": [
        {
          "output_type": "execute_result",
          "data": {
            "text/plain": [
              "Row(ID=2, LIMIT_BAL=120000.0, SEX='Female', EDUCATION='College', MARRIAGE='Single', AGE=26, PAY_0=-1, PAY_2=2, PAY_3=0, PAY_4=0, PAY_5=0, PAY_6=2, BILL_AMT1=2682.0, BILL_AMT2=1725.0, BILL_AMT3=2682.0, BILL_AMT4=3272.0, BILL_AMT5=3455.0, BILL_AMT6=3261.0, PAY_AMT1=0.0, PAY_AMT2=1000.0, PAY_AMT3=1000.0, PAY_AMT4=1000.0, PAY_AMT5=0.0, PAY_AMT6=2000.0, default=1)"
            ]
          },
          "metadata": {
            "tags": []
          },
          "execution_count": 16
        }
      ]
    },
    {
      "cell_type": "markdown",
      "metadata": {
        "id": "WJW_ozxaYjoW",
        "colab_type": "text"
      },
      "source": [
        "Now let's take a look at all the values contained in the categorical columns of the DataFrame: "
      ]
    },
    {
      "cell_type": "code",
      "metadata": {
        "id": "bPRkWKdYYjoW",
        "colab_type": "code",
        "colab": {
          "base_uri": "https://localhost:8080/",
          "height": 90
        },
        "outputId": "023a3fb9-20e6-4592-f40c-b93675dd8075"
      },
      "source": [
        "for column, data_type in spark_df_done.dtypes:\n",
        "    if data_type == 'string':\n",
        "        print('Feature ',column,' has: ', spark_df_done.select(column).distinct().collect())"
      ],
      "execution_count": 17,
      "outputs": [
        {
          "output_type": "stream",
          "text": [
            "Feature  SEX  has:  [Row(SEX='Female'), Row(SEX='Male')]\n",
            "Feature  EDUCATION  has:  [Row(EDUCATION='High School'), Row(EDUCATION='Other'), Row(EDUCATION='Graduate'), Row(EDUCATION='College')]\n",
            "Feature  MARRIAGE  has:  [Row(MARRIAGE='Other'), Row(MARRIAGE='Married'), Row(MARRIAGE='Single')]\n"
          ],
          "name": "stdout"
        }
      ]
    },
    {
      "cell_type": "markdown",
      "metadata": {
        "id": "v8tC1JBjYjoa",
        "colab_type": "text"
      },
      "source": [
        "Much better. Now, let's do a little more investigation into our target variable before diving into the machine learning aspect of this project."
      ]
    },
    {
      "cell_type": "markdown",
      "metadata": {
        "id": "rKAfHqekYjob",
        "colab_type": "text"
      },
      "source": [
        "##  EDA\n",
        "\n",
        "Let's first look at the overall distribution of class balance of the default and not default labels. Create a barplot to compare the number of defaults vs. non-defaults. This will require using `.groupBy()` as well as an aggregation method."
      ]
    },
    {
      "cell_type": "code",
      "metadata": {
        "id": "E_0-zZAbYjob",
        "colab_type": "code",
        "colab": {},
        "outputId": "6cff7d3c-74a6-43f3-e14d-b68a262200ee"
      },
      "source": [
        ""
      ],
      "execution_count": 0,
      "outputs": [
        {
          "output_type": "execute_result",
          "data": {
            "text/plain": [
              "[Text(0,0,'No Default (0)'), Text(0,0,'Default (1)')]"
            ]
          },
          "metadata": {
            "tags": []
          },
          "execution_count": 10
        },
        {
          "output_type": "display_data",
          "data": {
            "image/png": "[encoded data removed]",
            "text/plain": [
              "<Figure size 432x288 with 1 Axes>"
            ]
          },
          "metadata": {
            "tags": []
          }
        }
      ]
    },
    {
      "cell_type": "markdown",
      "metadata": {
        "id": "ihP3nKxBYjoe",
        "colab_type": "text"
      },
      "source": [
        "Let's also visualize the difference in default rate between males and females in this dataset."
      ]
    },
    {
      "cell_type": "code",
      "metadata": {
        "id": "Uii5FzL9Yjof",
        "colab_type": "code",
        "colab": {},
        "outputId": "7675664e-21e5-4d5e-d0e0-42a66e196d0a"
      },
      "source": [
        "# perform a groupby for default and sex\n"
      ],
      "execution_count": 0,
      "outputs": [
        {
          "output_type": "execute_result",
          "data": {
            "text/plain": [
              "[Row(default=1, SEX='Female', count=3762),\n",
              " Row(default=0, SEX='Male', count=9015),\n",
              " Row(default=1, SEX='Male', count=2873),\n",
              " Row(default=0, SEX='Female', count=14349)]"
            ]
          },
          "metadata": {
            "tags": []
          },
          "execution_count": 14
        }
      ]
    },
    {
      "cell_type": "code",
      "metadata": {
        "id": "pwI84eMsYjoi",
        "colab_type": "code",
        "colab": {},
        "outputId": "b0977e1b-454a-4ba4-936c-98bd4852930c"
      },
      "source": [
        "# make barplot for female and male default v no default rate"
      ],
      "execution_count": 0,
      "outputs": [
        {
          "output_type": "execute_result",
          "data": {
            "text/plain": [
              "[Text(0,0,'No Default (0)'), Text(0,0,'Default (1)')]"
            ]
          },
          "metadata": {
            "tags": []
          },
          "execution_count": 20
        },
        {
          "output_type": "display_data",
          "data": {
            "image/png": "[encoded data removed]",
            "text/plain": [
              "<Figure size 720x288 with 2 Axes>"
            ]
          },
          "metadata": {
            "tags": []
          }
        }
      ]
    },
    {
      "cell_type": "markdown",
      "metadata": {
        "id": "qHEZA24DYjol",
        "colab_type": "text"
      },
      "source": [
        "It looks like males have an ever so slightly higher default rate than females."
      ]
    },
    {
      "cell_type": "markdown",
      "metadata": {
        "id": "VzgezltNYjom",
        "colab_type": "text"
      },
      "source": [
        "## Onto the Machine Learning!"
      ]
    },
    {
      "cell_type": "markdown",
      "metadata": {
        "id": "vpoA2JwyYjom",
        "colab_type": "text"
      },
      "source": [
        "Now, it's time to fit the data to the PySpark machine learning model pipeline. You will need:\n",
        "\n",
        "* 3 StringIndexers (for each categorical feature)\n",
        "* A OneHotEncoderEstimator (to encode the newly indexed strings into categorical variables)\n",
        "* A VectorAssembler (to combine all features into one SparseVector)\n",
        "\n",
        "All of these initialized estimators should be stored in a list."
      ]
    },
    {
      "cell_type": "code",
      "metadata": {
        "id": "OfoZ7LMaYjon",
        "colab_type": "code",
        "colab": {},
        "outputId": "863a79be-0b09-4b34-c6ed-3da1f2bab4bd"
      },
      "source": [
        "# importing the necessary modules\n",
        "\n",
        "\n",
        "# creating the string indexers\n",
        "\n",
        "\n",
        "# features to be included in the model \n",
        "\n",
        "# adding the categorical features\n",
        "\n",
        "# putting all of the features into a single vector\n",
        "\n"
      ],
      "execution_count": 0,
      "outputs": [
        {
          "output_type": "stream",
          "text": [
            "[StringIndexer_47acb457ea747325b362, StringIndexer_476d9333661023960df9, StringIndexer_4477bba86fbbf3c44e9b, OneHotEncoderEstimator_41e99280e73030b62fe5, VectorAssembler_45a59eab105a2278079b]\n"
          ],
          "name": "stdout"
        }
      ]
    },
    {
      "cell_type": "markdown",
      "metadata": {
        "id": "AMJpxGbLYjor",
        "colab_type": "text"
      },
      "source": [
        "Alright! Now let's see if that worked. Let's investigate how it transforms your dataset. Put all of the stages in a Pipeline and fit it to your data. Look at the features column. Did you obtain the number of features you expected?"
      ]
    },
    {
      "cell_type": "code",
      "metadata": {
        "id": "tuf9kYh8Yjos",
        "colab_type": "code",
        "colab": {},
        "outputId": "9660cbfb-fdc1-49d1-c177-93cd9d2ce3d5"
      },
      "source": [
        "from pyspark.ml.pipeline import Pipeline\n",
        "\n",
        "\n",
        "# 17 numerical features and 6 categorical ones (the argument dropLast = True makes us have Sex, 3 Edu variables and 2 marriage)"
      ],
      "execution_count": 0,
      "outputs": [
        {
          "output_type": "execute_result",
          "data": {
            "text/plain": [
              "Row(features=SparseVector(23, {0: 120000.0, 1: 26.0, 2: -1.0, 3: 2.0, 7: 2.0, 8: 2682.0, 9: 1725.0, 10: 2682.0, 11: 3272.0, 12: 3455.0, 13: 3261.0, 14: 1.0, 18: 1.0, 20: 1.0}))"
            ]
          },
          "metadata": {
            "tags": []
          },
          "execution_count": 22
        }
      ]
    },
    {
      "cell_type": "markdown",
      "metadata": {
        "id": "mp-ieOy3Yjov",
        "colab_type": "text"
      },
      "source": [
        "## Fitting Machine Learning Models\n",
        "That looks good! Now let's go ahead and fit data to different machine learning models. To evaluate these models, you should use the `BinaryClassificationEvaluator`. Below is an import of all the classes and libraries you'll need in the remainder of this lab."
      ]
    },
    {
      "cell_type": "code",
      "metadata": {
        "id": "v2UssuKIYjov",
        "colab_type": "code",
        "colab": {}
      },
      "source": [
        "from pyspark.ml.classification import GBTClassifier, DecisionTreeClassifier, LogisticRegression, RandomForestClassifier\n",
        "from pyspark.ml.tuning import ParamGridBuilder, CrossValidator, TrainValidationSplit\n",
        "from pyspark.ml.evaluation import BinaryClassificationEvaluator\n",
        "import numpy as np"
      ],
      "execution_count": 0,
      "outputs": []
    },
    {
      "cell_type": "markdown",
      "metadata": {
        "id": "3YIjETNjYjoz",
        "colab_type": "text"
      },
      "source": [
        "### Logistic Regression\n",
        "\n",
        "First, we'll try with a simple Logistic Regression Model:\n",
        "\n",
        "* instantiate a logistic regression model\n",
        "* add it to the stages list\n",
        "* instantiate a new Pipeline estimator (not fit) with all of the stages\n",
        "* instantiate an `BinaryClassificationEvaluator`\n",
        "* create parameters to gridsearch through using `ParamGridBuilder`\n",
        "* Instantiate and fit a `CrossValidator` "
      ]
    },
    {
      "cell_type": "code",
      "metadata": {
        "id": "jXIJGsj8Yjoz",
        "colab_type": "code",
        "colab": {}
      },
      "source": [
        "# your code here\n"
      ],
      "execution_count": 0,
      "outputs": []
    },
    {
      "cell_type": "markdown",
      "metadata": {
        "id": "IgATkHJFYjo2",
        "colab_type": "text"
      },
      "source": [
        "Determine how well your model performed by looking at the evaluator metrics. If you tried multiple parameters, which performed best?"
      ]
    },
    {
      "cell_type": "code",
      "metadata": {
        "id": "xkps0qpvYjo3",
        "colab_type": "code",
        "colab": {},
        "outputId": "080b749c-0e25-498d-98ca-426e980a51a2"
      },
      "source": [
        "# print out the AUC of your best model as well as the parameters of your best model\n"
      ],
      "execution_count": 0,
      "outputs": [
        {
          "output_type": "stream",
          "text": [
            "0.7183252301096683 AUC\n",
            "best parameters :  {Param(parent='LogisticRegression_4e12b7861559618c2aa6', name='regParam', doc='regularization parameter (>= 0).'): 0.0, Param(parent='LogisticRegression_4e12b7861559618c2aa6', name='standardization', doc='whether to standardize the training features before fitting the model.'): True}\n"
          ],
          "name": "stdout"
        }
      ]
    },
    {
      "cell_type": "markdown",
      "metadata": {
        "id": "vaoEAZiRYjo6",
        "colab_type": "text"
      },
      "source": [
        "#### Now try this again with other classifiers. Try and create a function that will allow you to easily test different models with different parameters. This function is optional, but it should allow for your code to be far more D.R.Y. The function should return the fitted cross-validated model as well as print out the performance metrics of the best performing model and the best parameters."
      ]
    },
    {
      "cell_type": "code",
      "metadata": {
        "id": "v7WbF6yKYjo6",
        "colab_type": "code",
        "colab": {}
      },
      "source": [
        "# create function to cross validate models with different parameters\n",
        "\n"
      ],
      "execution_count": 0,
      "outputs": []
    },
    {
      "cell_type": "markdown",
      "metadata": {
        "id": "8ae_78YXYjo9",
        "colab_type": "text"
      },
      "source": [
        "Train a Random Forest classifier and determine the best performing model with the best parameters. This might take a while! Be smart about how you use parallelization here."
      ]
    },
    {
      "cell_type": "code",
      "metadata": {
        "id": "56G1PQTKYjo9",
        "colab_type": "code",
        "colab": {},
        "outputId": "b0fba619-b595-41e8-ac3c-f518fb5991d6"
      },
      "source": [
        "# code to train Random Forest Classifier\n",
        "# ⏰ This cell may take a long time to run\n"
      ],
      "execution_count": 0,
      "outputs": [
        {
          "output_type": "stream",
          "text": [
            "best performing model:  0.7826543113276045 AUC\n",
            "best parameters:  {Param(parent='RandomForestClassifier_4ddb8a67eee4da94132a', name='maxDepth', doc='Maximum depth of the tree. (>= 0) E.g., depth 0 means 1 leaf node; depth 1 means 1 internal node + 2 leaf nodes.'): 10, Param(parent='RandomForestClassifier_4ddb8a67eee4da94132a', name='numTrees', doc='Number of trees to train (>= 1).'): 200}\n"
          ],
          "name": "stdout"
        }
      ]
    },
    {
      "cell_type": "markdown",
      "metadata": {
        "id": "2LrOdm7EYjpA",
        "colab_type": "text"
      },
      "source": [
        "Now train a Gradient Boosting Classifier. **This might take a very long time depending on the number of parameters you are training**"
      ]
    },
    {
      "cell_type": "code",
      "metadata": {
        "id": "S7NmPN-NYjpA",
        "colab_type": "code",
        "colab": {},
        "outputId": "d0e798e2-eef5-4da1-97ad-af5d35f0e37a"
      },
      "source": [
        "# code to train Gradient Boosting Classifier\n",
        "# ⏰ This cell may take a long time to run\n"
      ],
      "execution_count": 0,
      "outputs": [
        {
          "output_type": "stream",
          "text": [
            "best performing model:  0.7798494380533647 AUC\n",
            "best parameters:  {Param(parent='GBTClassifier_42569733d04d7a375612', name='maxDepth', doc='Maximum depth of the tree. (>= 0) E.g., depth 0 means 1 leaf node; depth 1 means 1 internal node + 2 leaf nodes.'): 5, Param(parent='GBTClassifier_42569733d04d7a375612', name='maxIter', doc='max number of iterations (>= 0).'): 50}\n"
          ],
          "name": "stdout"
        }
      ]
    },
    {
      "cell_type": "markdown",
      "metadata": {
        "id": "3l5Kx46gYjpD",
        "colab_type": "text"
      },
      "source": [
        "It looks like the optimal performing model is the Random Forest Classifier Model because it has the highest AUC!\n",
        "\n",
        "## Level Up (Optional)\n",
        "\n",
        "* Create ROC curves for each of these models\n",
        "* Try the multi-layer perceptron classifier algorithm. You will soon learn about what this means in the neural network section!"
      ]
    },
    {
      "cell_type": "markdown",
      "metadata": {
        "id": "d6tXFI9nYjpD",
        "colab_type": "text"
      },
      "source": [
        "## Summary\n",
        "\n",
        "If you've made it thus far, congratulations! Spark is an in-demand skill, but it is not particularly easy to master. In this lesson, you fit multiple different machine learning pipelines for a classification problem. If you want to take your Spark skills to the next level, connect to a distributed cluster using a service like AWS or Databricks and perform these Spark operations on the cloud."
      ]
    }
  ]
}